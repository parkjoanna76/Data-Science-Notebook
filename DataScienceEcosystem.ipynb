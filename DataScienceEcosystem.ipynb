{
 "cells": [
  {
   "cell_type": "markdown",
   "id": "d39b2046-4034-42f8-9d76-40937dd5de84",
   "metadata": {},
   "source": [
    "# Data Science Tools and Ecosystem"
   ]
  },
  {
   "cell_type": "code",
   "execution_count": null,
   "id": "90463255-cd62-4353-9a7c-7fb39b6e2344",
   "metadata": {},
   "outputs": [],
   "source": [
    "In this notebook, Data Science Tools and Ecosystem are summarized."
   ]
  },
  {
   "cell_type": "markdown",
   "id": "1839de60-96a5-4c9f-8bc4-0c10090ae26e",
   "metadata": {},
   "source": [
    "**Objectives:**\n",
    "\n",
    "- List popular languages for Data Science\n",
    "- Understand key Data Science tools and their applications\n",
    "- Learn how to perform basic mathematical operations in Python\n",
    "- Convert time units (e.g., minutes to hours)\n",
    "- Create and format tables in Markdown"
   ]
  },
  {
   "cell_type": "code",
   "execution_count": null,
   "id": "381986ba-fdc1-46e3-91db-d70fd9f644bf",
   "metadata": {},
   "outputs": [],
   "source": [
    "Some of the popular languages that Data Scientists use are:\n",
    "1.Python\n",
    "2.SQL\n",
    "3.Julia\n",
    "4.R"
   ]
  },
  {
   "cell_type": "code",
   "execution_count": null,
   "id": "80cdfe80-f4a3-4568-9777-c00800cf88f2",
   "metadata": {},
   "outputs": [],
   "source": [
    "Some of the commonly used libraries used by Data Scientists include:\n",
    "1.Pandas\n",
    "2.NumPy\n",
    "3.Matplotlib\n"
   ]
  },
  {
   "cell_type": "markdown",
   "id": "292fb964-8750-4738-825a-c5f7282e9c2f",
   "metadata": {},
   "source": [
    "#DATA SCIENCE TOOLS \n",
    "\n",
    "| Tool          | Description                                   |\n",
    "|---------------|-----------------------------------------------|\n",
    "| Python        | A programming language widely used in data \n",
    "                    science for its simplicity and versatility. |\n",
    "| R             |A language and environment specifically \n",
    "               designed for statistical computing and graphics. |\n",
    "| Jupyter       | An open-source web application that allows you \n",
    "                  to create and share documents containing live \n",
    "           code, equations, visualizations, and narrative text. |\n",
    "| Pandas        | A Python library for data manipulation and analysis, providing data structures like DataFrames. |\n",
    "| NumPy         | A library for numerical computing in Python, offering support for large, multi-dimensional arrays and matrices. |\n",
    "| Matplotlib    | A plotting library for Python that provides an object-oriented API for embedding plots into applications. |\n",
    "| Scikit-learn  | A machine learning library for Python that provides simple and efficient tools for data mining and data analysis. |\n",
    "| TensorFlow    | An open-source library for numerical computation and machine learning, particularly deep learning. |\n",
    "| Keras         | A high-level neural networks API, written in Python and capable of running on top of TensorFlow. |\n",
    "| Tableau       | A data visualization tool that helps in converting raw data into an understandable format. |"
   ]
  },
  {
   "cell_type": "markdown",
   "id": "87d6325b-b02b-44f6-8da0-4049d11f26de",
   "metadata": {},
   "source": [
    "# Below are a few examples of evaluating arithmetic expressions in Python:\n",
    "1.Basic Arithmetic Operations\n",
    "# Addition\n",
    "result = 5 + 3\n",
    "print(result)  # Output: 8\n",
    "\n",
    "# Subtraction\n",
    "result = 10 - 4\n",
    "print(result)  # Output: 6\n",
    "\n",
    "# Multiplication\n",
    "result = 6 * 7\n",
    "print(result)  # Output: 42\n",
    "\n",
    "# Division\n",
    "result = 16 / 4\n",
    "print(result)  # Output: 4.0\n",
    "\n",
    "2. Using Exponentiation and Modulus\n",
    "# Exponentiation (raising to a power)\n",
    "result = 2 ** 3\n",
    "print(result)  # Output: 8\n",
    "\n",
    "# Modulus (remainder of division)\n",
    "result = 10 % 3\n",
    "print(result)  # Output: 1\n",
    "\n",
    "3.Complex Arithmetic Expressions\n",
    "# More complex expression\n",
    "result = (10 + 5) * (2 ** 3) / 4 - 3\n",
    "print(result)  # Output: 29.0"
   ]
  },
  {
   "cell_type": "code",
   "execution_count": 1,
   "id": "0806afb6-76ff-4d06-bb4d-fe4bff5a15ed",
   "metadata": {},
   "outputs": [
    {
     "data": {
      "text/plain": [
       "17"
      ]
     },
     "execution_count": 1,
     "metadata": {},
     "output_type": "execute_result"
    }
   ],
   "source": [
    "result=(3*4)+5 \n",
    "result\n",
    " #This a simple arithmetic expression to multiply then add integers"
   ]
  },
  {
   "cell_type": "code",
   "execution_count": 7,
   "id": "5e2b0f5a-7bf8-4e1e-ad56-dcbc4c5be1e8",
   "metadata": {},
   "outputs": [
    {
     "data": {
      "text/plain": [
       "3.3333333333333335"
      ]
     },
     "execution_count": 7,
     "metadata": {},
     "output_type": "execute_result"
    }
   ],
   "source": [
    "minutes=200\n",
    "hours=minutes/60\n",
    "hours\n",
    "\n",
    "#This will convert 200 minutes to hours by diving by 60"
   ]
  },
  {
   "cell_type": "code",
   "execution_count": null,
   "id": "d61c822a-4009-4145-9ba3-7ff5e2897f62",
   "metadata": {},
   "outputs": [],
   "source": []
  },
  {
   "cell_type": "markdown",
   "id": "f265f43d-f42a-41d2-90d6-5119c7f15e91",
   "metadata": {},
   "source": [
    "# Author\n",
    "Joanna Park\n"
   ]
  }
 ],
 "metadata": {
  "kernelspec": {
   "display_name": "anaconda-2022.05-py39",
   "language": "python",
   "name": "conda-env-anaconda-2022.05-py39-py"
  },
  "language_info": {
   "codemirror_mode": {
    "name": "ipython",
    "version": 3
   },
   "file_extension": ".py",
   "mimetype": "text/x-python",
   "name": "python",
   "nbconvert_exporter": "python",
   "pygments_lexer": "ipython3",
   "version": "3.9.12"
  }
 },
 "nbformat": 4,
 "nbformat_minor": 5
}
